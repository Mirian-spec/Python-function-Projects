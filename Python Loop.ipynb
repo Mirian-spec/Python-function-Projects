{
 "cells": [
  {
   "cell_type": "markdown",
   "id": "a599dbc0",
   "metadata": {},
   "source": [
    "# Solving problems with Loop"
   ]
  },
  {
   "cell_type": "code",
   "execution_count": 2,
   "id": "a9d804d7",
   "metadata": {},
   "outputs": [
    {
     "name": "stdout",
     "output_type": "stream",
     "text": [
      "1\n",
      "2\n",
      "3\n",
      "4\n",
      "5\n",
      "6\n",
      "7\n",
      "8\n",
      "9\n",
      "10\n"
     ]
    }
   ],
   "source": [
    "#print the first 10 natural numbers\n",
    "\n",
    "for n in range(1,11):\n",
    "    print(n)"
   ]
  },
  {
   "cell_type": "code",
   "execution_count": 10,
   "id": "2bb866a3",
   "metadata": {},
   "outputs": [
    {
     "name": "stdout",
     "output_type": "stream",
     "text": [
      "Enter number 5\n",
      "sum of numbers is:  1\n",
      "sum of numbers is:  3\n",
      "sum of numbers is:  6\n",
      "sum of numbers is:  10\n",
      "sum of numbers is:  15\n"
     ]
    }
   ],
   "source": [
    "#calculate the sum of all integers from 1 to a given number\n",
    "\n",
    "n=int(input('Enter number '))\n",
    "\n",
    "sum=0\n",
    "\n",
    "for num in range(1,n+1,1):\n",
    "    sum = sum+num\n",
    "    print('sum of numbers is: ', sum)\n"
   ]
  },
  {
   "cell_type": "code",
   "execution_count": 19,
   "id": "1fb1a136",
   "metadata": {},
   "outputs": [
    {
     "name": "stdout",
     "output_type": "stream",
     "text": [
      "Enter the number: 7\n",
      "Multiplication Table of 7\n",
      "7 X 1 = 7\n",
      "7 X 2 = 14\n",
      "7 X 3 = 21\n",
      "7 X 4 = 28\n",
      "7 X 5 = 35\n",
      "7 X 6 = 42\n",
      "7 X 7 = 49\n",
      "7 X 8 = 56\n",
      "7 X 9 = 63\n",
      "7 X 10 = 70\n",
      "7 X 11 = 77\n",
      "7 X 12 = 84\n"
     ]
    }
   ],
   "source": [
    "#write a program to print the multiplication table for a given number\n",
    "\n",
    "num = int(input(\"Enter the number: \"))\n",
    "\n",
    "print(\"Multiplication Table of\", num)\n",
    "for i in range(1, 13):\n",
    "   print(num,\"X\",i,\"=\",num * i)\n",
    "\n"
   ]
  },
  {
   "cell_type": "code",
   "execution_count": 15,
   "id": "babbdb39",
   "metadata": {},
   "outputs": [
    {
     "name": "stdout",
     "output_type": "stream",
     "text": [
      "2\n",
      "4\n",
      "6\n",
      "8\n",
      "10\n"
     ]
    }
   ],
   "source": [
    "#display the numbers from a list using loop\n",
    "\n",
    "list=[2,4,6,8,10]\n",
    "\n",
    "for no in list:\n",
    "    print(no)"
   ]
  },
  {
   "cell_type": "code",
   "execution_count": 16,
   "id": "e90f8a58",
   "metadata": {},
   "outputs": [
    {
     "name": "stdout",
     "output_type": "stream",
     "text": [
      "10\n"
     ]
    }
   ],
   "source": [
    "#count the total number of digits\n",
    "\n",
    "num = 1234567890\n",
    "\n",
    "digits = len(str(num)) #convert the number to a string n use \"len\" function to c#ount\n",
    "print(digits)"
   ]
  },
  {
   "cell_type": "code",
   "execution_count": 17,
   "id": "7399c6cd",
   "metadata": {},
   "outputs": [
    {
     "name": "stdout",
     "output_type": "stream",
     "text": [
      "Enter the min : 2\n",
      "Enter the max : 15\n",
      "2\n",
      "3\n",
      "5\n",
      "7\n",
      "11\n",
      "13\n"
     ]
    }
   ],
   "source": [
    "#write a program to display all prime numbers within a range\n",
    "\n",
    "min = int(input(\"Enter the min : \"))\n",
    "max = int(input(\"Enter the max : \"))\n",
    "\n",
    "for n in range(min,max + 1):\n",
    "   if n > 1:\n",
    "       for i in range(2,n):\n",
    "           if (n % i) == 0:\n",
    "               break\n",
    "       else:\n",
    "           print(n)\n",
    "    "
   ]
  },
  {
   "cell_type": "code",
   "execution_count": null,
   "id": "bcc32795",
   "metadata": {},
   "outputs": [],
   "source": []
  }
 ],
 "metadata": {
  "kernelspec": {
   "display_name": "Python 3 (ipykernel)",
   "language": "python",
   "name": "python3"
  },
  "language_info": {
   "codemirror_mode": {
    "name": "ipython",
    "version": 3
   },
   "file_extension": ".py",
   "mimetype": "text/x-python",
   "name": "python",
   "nbconvert_exporter": "python",
   "pygments_lexer": "ipython3",
   "version": "3.9.12"
  }
 },
 "nbformat": 4,
 "nbformat_minor": 5
}
