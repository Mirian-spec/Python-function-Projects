{
 "cells": [
  {
   "cell_type": "markdown",
   "id": "bb15448e",
   "metadata": {},
   "source": [
    "# Using Numpy program to solve problems"
   ]
  },
  {
   "cell_type": "markdown",
   "id": "c77d416a",
   "metadata": {},
   "source": [
    "## Problem Statement\n",
    "\n",
    "* 1) Write a NumPy program to get help on the add function.\n",
    "* 2) Write a NumPy program to create an array with values ranging from 12 to 38.\n",
    "* 3) Write a NumPy program to create a 3x3 matrix with values ranging from 2 to 10.\n",
    "* 4) Write a NumPy program to create a 2d array with 1 on the border and 0 inside.\n",
    "* 5) Write a NumPy program to append values to the end of an array.\n",
    "* 6) Write a NumPy program to generate five random numbers from the normal distribution.\n",
    "* 7) Write a NumPy program to get the n largest values of an array."
   ]
  },
  {
   "cell_type": "markdown",
   "id": "d396e6b5",
   "metadata": {},
   "source": [
    "####  1) Write a NumPy program to get help on the add function."
   ]
  },
  {
   "cell_type": "code",
   "execution_count": 2,
   "id": "16670646",
   "metadata": {},
   "outputs": [
    {
     "name": "stdout",
     "output_type": "stream",
     "text": [
      "add(x1, x2, /, out=None, *, where=True, casting='same_kind', order='K', dtype=None, subok=True[, signature, extobj])\n",
      "\n",
      "Add arguments element-wise.\n",
      "\n",
      "Parameters\n",
      "----------\n",
      "x1, x2 : array_like\n",
      "    The arrays to be added.\n",
      "    If ``x1.shape != x2.shape``, they must be broadcastable to a common\n",
      "    shape (which becomes the shape of the output).\n",
      "out : ndarray, None, or tuple of ndarray and None, optional\n",
      "    A location into which the result is stored. If provided, it must have\n",
      "    a shape that the inputs broadcast to. If not provided or None,\n",
      "    a freshly-allocated array is returned. A tuple (possible only as a\n",
      "    keyword argument) must have length equal to the number of outputs.\n",
      "where : array_like, optional\n",
      "    This condition is broadcast over the input. At locations where the\n",
      "    condition is True, the `out` array will be set to the ufunc result.\n",
      "    Elsewhere, the `out` array will retain its original value.\n",
      "    Note that if an uninitialized `out` array is created via the default\n",
      "    ``out=None``, locations within it where the condition is False will\n",
      "    remain uninitialized.\n",
      "**kwargs\n",
      "    For other keyword-only arguments, see the\n",
      "    :ref:`ufunc docs <ufuncs.kwargs>`.\n",
      "\n",
      "Returns\n",
      "-------\n",
      "add : ndarray or scalar\n",
      "    The sum of `x1` and `x2`, element-wise.\n",
      "    This is a scalar if both `x1` and `x2` are scalars.\n",
      "\n",
      "Notes\n",
      "-----\n",
      "Equivalent to `x1` + `x2` in terms of array broadcasting.\n",
      "\n",
      "Examples\n",
      "--------\n",
      ">>> np.add(1.0, 4.0)\n",
      "5.0\n",
      ">>> x1 = np.arange(9.0).reshape((3, 3))\n",
      ">>> x2 = np.arange(3.0)\n",
      ">>> np.add(x1, x2)\n",
      "array([[  0.,   2.,   4.],\n",
      "       [  3.,   5.,   7.],\n",
      "       [  6.,   8.,  10.]])\n",
      "\n",
      "The ``+`` operator can be used as a shorthand for ``np.add`` on ndarrays.\n",
      "\n",
      ">>> x1 = np.arange(9.0).reshape((3, 3))\n",
      ">>> x2 = np.arange(3.0)\n",
      ">>> x1 + x2\n",
      "array([[ 0.,  2.,  4.],\n",
      "       [ 3.,  5.,  7.],\n",
      "       [ 6.,  8., 10.]])\n",
      "None\n"
     ]
    }
   ],
   "source": [
    "import numpy as np\n",
    "print(np.info(np.add))"
   ]
  },
  {
   "cell_type": "markdown",
   "id": "44dce563",
   "metadata": {},
   "source": [
    "#### 2) Write a NumPy program to create an array with values ranging from 12 to 38."
   ]
  },
  {
   "cell_type": "code",
   "execution_count": 3,
   "id": "857392bc",
   "metadata": {},
   "outputs": [
    {
     "data": {
      "text/plain": [
       "array([12, 13, 14, 15, 16, 17, 18, 19, 20, 21, 22, 23, 24, 25, 26, 27, 28,\n",
       "       29, 30, 31, 32, 33, 34, 35, 36, 37])"
      ]
     },
     "execution_count": 3,
     "metadata": {},
     "output_type": "execute_result"
    }
   ],
   "source": [
    "np.arange(12,38)"
   ]
  },
  {
   "cell_type": "markdown",
   "id": "3e66ee55",
   "metadata": {},
   "source": [
    "#### 3) Write a NumPy program to create a 3x3 matrix with values ranging from 2 to 10."
   ]
  },
  {
   "cell_type": "code",
   "execution_count": 11,
   "id": "2edfe1d4",
   "metadata": {},
   "outputs": [
    {
     "name": "stdout",
     "output_type": "stream",
     "text": [
      "[[[ 2  3  4]\n",
      "  [ 5  6  7]\n",
      "  [ 8  9 10]]]\n"
     ]
    },
    {
     "data": {
      "text/plain": [
       "array([[ 2,  3,  4],\n",
       "       [ 5,  6,  7],\n",
       "       [ 8,  9, 10]])"
      ]
     },
     "execution_count": 11,
     "metadata": {},
     "output_type": "execute_result"
    }
   ],
   "source": [
    "values =np.array([[[2,3,4],[5,6,7],[8,9,10]]])\n",
    "print(values)\n",
    "\n",
    "values.reshape((3,3))\n",
    "\n"
   ]
  },
  {
   "cell_type": "markdown",
   "id": "1deff4d6",
   "metadata": {},
   "source": [
    "#### 4) Write a NumPy program to create a 2d array with 1 on the border and 0 inside."
   ]
  },
  {
   "cell_type": "code",
   "execution_count": 12,
   "id": "f0eef19b",
   "metadata": {},
   "outputs": [
    {
     "name": "stdout",
     "output_type": "stream",
     "text": [
      "[[1 1 1 1 1]\n",
      " [1 0 0 0 1]\n",
      " [1 0 0 0 1]\n",
      " [1 0 0 0 1]\n",
      " [1 1 1 1 1]]\n"
     ]
    }
   ],
   "source": [
    "n = 5\n",
    "\n",
    "import numpy as np\n",
    "\n",
    "border = np.ones((n, n), dtype = int)\n",
    "border[1:-1, 1:-1] = 0\n",
    "print(border)"
   ]
  },
  {
   "cell_type": "markdown",
   "id": "f69a7a88",
   "metadata": {},
   "source": [
    "np.ones((5,5))"
   ]
  },
  {
   "cell_type": "markdown",
   "id": "e4793627",
   "metadata": {},
   "source": [
    "#### 5) Write a NumPy program to append values to the end of an array."
   ]
  },
  {
   "cell_type": "code",
   "execution_count": 20,
   "id": "4f69a71f",
   "metadata": {},
   "outputs": [
    {
     "name": "stdout",
     "output_type": "stream",
     "text": [
      "original array:  [1 2 3 4]\n",
      "appended array:  [1 2 3 4 5 6]\n"
     ]
    }
   ],
   "source": [
    "arr = np.array([1,2,3,4])\n",
    "print('original array: ', arr)\n",
    "\n",
    "app_arr = np.append(arr, [5,6])\n",
    "print('appended array: ', app_arr)"
   ]
  },
  {
   "cell_type": "markdown",
   "id": "c6419c4f",
   "metadata": {},
   "source": [
    "#### 6) Write a NumPy program to generate five random numbers from the normal distribution."
   ]
  },
  {
   "cell_type": "code",
   "execution_count": 23,
   "id": "2b5fb84b",
   "metadata": {},
   "outputs": [
    {
     "name": "stdout",
     "output_type": "stream",
     "text": [
      "[ 0.34466964 -1.56746851 -0.34762081 -0.56145353  1.10089729]\n"
     ]
    }
   ],
   "source": [
    "a = np.random.normal(size=5)\n",
    "print(a)"
   ]
  },
  {
   "cell_type": "markdown",
   "id": "f62c5120",
   "metadata": {},
   "source": [
    "####  7) Write a NumPy program to get the n largest values of an array."
   ]
  },
  {
   "cell_type": "code",
   "execution_count": 30,
   "id": "318a05b2",
   "metadata": {},
   "outputs": [
    {
     "name": "stdout",
     "output_type": "stream",
     "text": [
      "Given array:  [ 2  3  5  6  4 12 14  9]\n",
      "Sorted array:  [ 2  3  4  5  6  9 12 14]\n",
      "1 largest number is, [14]\n"
     ]
    }
   ],
   "source": [
    "x = np.array([2,3,5,6,4,12,14,9])\n",
    "print('Given array: ', x)\n",
    "\n",
    "sorted_index_array = np.argsort(x)\n",
    "\n",
    "sorted_array = x[sorted_index_array]\n",
    "\n",
    "print('Sorted array: ', sorted_array)\n",
    "\n",
    "n=1\n",
    "result = sorted_array[-n:]\n",
    "print('{} largest number is,'.format(n),result)"
   ]
  }
 ],
 "metadata": {
  "kernelspec": {
   "display_name": "Python 3 (ipykernel)",
   "language": "python",
   "name": "python3"
  },
  "language_info": {
   "codemirror_mode": {
    "name": "ipython",
    "version": 3
   },
   "file_extension": ".py",
   "mimetype": "text/x-python",
   "name": "python",
   "nbconvert_exporter": "python",
   "pygments_lexer": "ipython3",
   "version": "3.9.12"
  }
 },
 "nbformat": 4,
 "nbformat_minor": 5
}
