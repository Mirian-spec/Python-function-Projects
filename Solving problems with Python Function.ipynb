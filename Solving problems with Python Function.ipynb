{
 "cells": [
  {
   "cell_type": "markdown",
   "id": "43f7cdd3",
   "metadata": {},
   "source": [
    "# Solving problems with Python functions"
   ]
  },
  {
   "cell_type": "markdown",
   "id": "7bfad5b5",
   "metadata": {},
   "source": [
    "## Problem Statement\n",
    "\n",
    "1.\t Write a Python function to find the Max of three numbers.\n",
    "2.\tWrite a Python function to sum all the numbers in a list\n",
    "3.\tWrite a Python program to reverse a string\n",
    "4.\tWrite a Python function to check whether a number falls in a given range\n",
    "5.\t Write a Python function that takes a list and returns a new list with unique elements of the first list\n",
    "6.\t Write a Python program to print the even numbers from a given list.\n",
    "7.\t Write a Python function that checks whether a passed string is a palindrome or not.\n",
    "8.\t Write a Python function to create and print a list where the values are squares of numbers between 1 and 30 (both included).\n",
    "\n",
    "\n"
   ]
  },
  {
   "cell_type": "code",
   "execution_count": 3,
   "id": "bc5290f2",
   "metadata": {},
   "outputs": [
    {
     "name": "stdout",
     "output_type": "stream",
     "text": [
      "45\n"
     ]
    }
   ],
   "source": [
    "#Write a Python function to find the Max of three numbers.\n",
    "List = [23, 14, 45]\n",
    "\n",
    "def max_num(x):\n",
    "    return max(x)\n",
    "\n",
    "print(max_num(List))"
   ]
  },
  {
   "cell_type": "code",
   "execution_count": 5,
   "id": "f150c028",
   "metadata": {},
   "outputs": [
    {
     "name": "stdout",
     "output_type": "stream",
     "text": [
      "6\n"
     ]
    }
   ],
   "source": [
    "def max_of_two( x, y ):\n",
    "    if x > y:\n",
    "        return x\n",
    "    return y\n",
    "def max_of_three( x, y, z ):\n",
    "    return max_of_two( x, max_of_two( y, z ) )\n",
    "\n",
    "print(max_of_three(3, 6, -5))"
   ]
  },
  {
   "cell_type": "code",
   "execution_count": 3,
   "id": "eb5fad32",
   "metadata": {},
   "outputs": [
    {
     "name": "stdout",
     "output_type": "stream",
     "text": [
      "6\n"
     ]
    }
   ],
   "source": [
    "def max_num( x, y ,z):\n",
    "    if x > y:\n",
    "        if x>z:\n",
    "                 return x\n",
    "        else:\n",
    "                 return z\n",
    "    elif y>z :\n",
    "          return y\n",
    "    elif z>y:\n",
    "          return z\n",
    "\n",
    "print(max_num(3, 6, -5))"
   ]
  },
  {
   "cell_type": "code",
   "execution_count": 21,
   "id": "81c17754",
   "metadata": {},
   "outputs": [
    {
     "name": "stdout",
     "output_type": "stream",
     "text": [
      "15\n"
     ]
    }
   ],
   "source": [
    "#Write a Python function to sum all the numbers in a list\n",
    "\n",
    "def sum_num(x):\n",
    "    total = 0\n",
    "    for i in x:\n",
    "        total+=i\n",
    "    return total\n",
    "list_no = list(range(1,6 ))\n",
    "print(sum_num(list_no))"
   ]
  },
  {
   "cell_type": "code",
   "execution_count": 23,
   "id": "e8ebc032",
   "metadata": {},
   "outputs": [
    {
     "name": "stdout",
     "output_type": "stream",
     "text": [
      "15\n"
     ]
    }
   ],
   "source": [
    "def sum_num():\n",
    "    List = list(range(1,6))\n",
    "    print(sum(List))\n",
    "sum_num()\n",
    "    "
   ]
  },
  {
   "cell_type": "code",
   "execution_count": 24,
   "id": "597594c4",
   "metadata": {},
   "outputs": [
    {
     "name": "stdout",
     "output_type": "stream",
     "text": [
      "tac a si sihT\n"
     ]
    }
   ],
   "source": [
    "#Write a Python program to reverse a string\n",
    "\n",
    "string = \"This is a cat\"[::-1]\n",
    "print(string)\n"
   ]
  },
  {
   "cell_type": "code",
   "execution_count": 26,
   "id": "16e06913",
   "metadata": {},
   "outputs": [
    {
     "data": {
      "text/plain": [
       "'tac a si sihT'"
      ]
     },
     "execution_count": 26,
     "metadata": {},
     "output_type": "execute_result"
    }
   ],
   "source": [
    "def reverse(s):\n",
    "    str = \"\"\n",
    "    for i in s:\n",
    "        str = i + str\n",
    "    return str\n",
    "\n",
    "string = \"This is a cat\"\n",
    "reverse(string)"
   ]
  },
  {
   "cell_type": "code",
   "execution_count": 28,
   "id": "60fcc2fa",
   "metadata": {},
   "outputs": [
    {
     "name": "stdout",
     "output_type": "stream",
     "text": [
      "True\n"
     ]
    }
   ],
   "source": [
    "#Write a Python function to check whether a number falls in a given range\n",
    "x = range(1,10)\n",
    "print(4 in x)"
   ]
  },
  {
   "cell_type": "code",
   "execution_count": 32,
   "id": "34f1794b",
   "metadata": {},
   "outputs": [
    {
     "name": "stdout",
     "output_type": "stream",
     "text": [
      "The number is present\n"
     ]
    }
   ],
   "source": [
    "def num(x):\n",
    "    if x in range (1,10):\n",
    "        return('The number is present')\n",
    "    else:\n",
    "        return(\"out of range\")\n",
    "print(num(7))"
   ]
  },
  {
   "cell_type": "code",
   "execution_count": 35,
   "id": "dc904688",
   "metadata": {},
   "outputs": [
    {
     "name": "stdout",
     "output_type": "stream",
     "text": [
      "['orange', 'banana']\n"
     ]
    }
   ],
   "source": [
    "#Write a Python function that takes a list and returns a new list with unique elements of the first list\n",
    "fruits = ['apple','orange','banana','pineapple','banana', 'orange']\n",
    "new_list = fruits[1:3]\n",
    "print(new_list)"
   ]
  },
  {
   "cell_type": "code",
   "execution_count": 34,
   "id": "be544fd1",
   "metadata": {},
   "outputs": [
    {
     "name": "stdout",
     "output_type": "stream",
     "text": [
      "['apple', 'orange', 'banana', 'pineapple']\n"
     ]
    }
   ],
   "source": [
    "def unique_list(l):\n",
    "    res = []\n",
    "    for a in l:\n",
    "        if a not in res:\n",
    "             res.append(a)\n",
    "    return res\n",
    "print(unique_list(fruits))"
   ]
  },
  {
   "cell_type": "code",
   "execution_count": 40,
   "id": "e63a6008",
   "metadata": {},
   "outputs": [
    {
     "name": "stdout",
     "output_type": "stream",
     "text": [
      "4\n",
      "8\n",
      "4\n",
      "22\n",
      "12\n"
     ]
    }
   ],
   "source": [
    "#Write a Python program to print the even numbers from a given list.\n",
    "\n",
    "def even_no(L):\n",
    "    for num in L:\n",
    "        if num % 2 == 0:\n",
    "            print(num)\n",
    "L=[4,15,7,8,4,1,23,22,9,12]\n",
    "even_no(L)"
   ]
  },
  {
   "cell_type": "code",
   "execution_count": 44,
   "id": "dc159c2d",
   "metadata": {},
   "outputs": [
    {
     "name": "stdout",
     "output_type": "stream",
     "text": [
      "Yes, it's a palindrome\n"
     ]
    }
   ],
   "source": [
    "#Write a Python function that checks whether a passed string is a palindrome or not.e'\n",
    "\n",
    "def isPalindrome(s):\n",
    "    if s == s[::-1]:\n",
    "        return('Yes, it\\'s a palindrome')\n",
    "    else:\n",
    "        return('No, it\\'s not a palindrone')\n",
    "s = \"level\"\n",
    "print(isPalindrome(s))\n"
   ]
  },
  {
   "cell_type": "code",
   "execution_count": 45,
   "id": "09a2b220",
   "metadata": {},
   "outputs": [
    {
     "name": "stdout",
     "output_type": "stream",
     "text": [
      "[1, 4, 9, 16, 25, 36, 49, 64, 81, 100, 121, 144, 169, 196, 225, 256, 289, 324, 361, 400, 441, 484, 529, 576, 625, 676, 729, 784, 841]\n"
     ]
    }
   ],
   "source": [
    "#Write a Python function to create and print a list where the values are squares of numbers between 1 and 30 (both included).\n",
    "\n",
    "def squares_no():\n",
    "    L = list()\n",
    "    for i in range(1,30):\n",
    "        L.append(i**2)\n",
    "    return(L)\n",
    "print(squares_no())\n",
    "    "
   ]
  },
  {
   "cell_type": "code",
   "execution_count": null,
   "id": "4ae9a3f2",
   "metadata": {},
   "outputs": [],
   "source": []
  }
 ],
 "metadata": {
  "kernelspec": {
   "display_name": "Python 3 (ipykernel)",
   "language": "python",
   "name": "python3"
  },
  "language_info": {
   "codemirror_mode": {
    "name": "ipython",
    "version": 3
   },
   "file_extension": ".py",
   "mimetype": "text/x-python",
   "name": "python",
   "nbconvert_exporter": "python",
   "pygments_lexer": "ipython3",
   "version": "3.9.12"
  }
 },
 "nbformat": 4,
 "nbformat_minor": 5
}
